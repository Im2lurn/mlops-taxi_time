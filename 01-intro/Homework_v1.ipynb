{
 "cells": [
  {
   "cell_type": "markdown",
   "id": "3f0a7a8b-6ab6-4460-88a3-43e6a70dc519",
   "metadata": {},
   "source": [
    "This is the homework notebook\n",
    "Questions are available at 'https://github.com/DataTalksClub/mlops-zoomcamp/blob/main/cohorts/2024/01-intro/homework.md'"
   ]
  },
  {
   "cell_type": "markdown",
   "id": "e0663f34-c423-4d66-a1cc-472984535195",
   "metadata": {},
   "source": [
    "To understand the fields visit 'https://www.nyc.gov/assets/tlc/downloads/pdf/data_dictionary_trip_records_yellow.pdf'"
   ]
  },
  {
   "cell_type": "markdown",
   "id": "6dfd7f92-e94d-423f-bbf9-93a664f6a83b",
   "metadata": {},
   "source": [
    "----------------------------------------------------------------------------------------"
   ]
  },
  {
   "cell_type": "code",
   "execution_count": 1,
   "id": "2a613faf-d898-4aaa-8ee4-14ac7364cdd6",
   "metadata": {},
   "outputs": [],
   "source": [
    "import pandas as pd\n",
    "from sklearn.feature_extraction import DictVectorizer # for one hot encoding\n",
    "from sklearn.linear_model import LinearRegression\n",
    "from sklearn.metrics import mean_squared_error\n",
    "import numpy as np\n",
    "import seaborn as sns\n",
    "import matplotlib.pyplot as plt"
   ]
  },
  {
   "cell_type": "code",
   "execution_count": 2,
   "id": "e0974067-d42f-429d-b01f-adfe482e2869",
   "metadata": {},
   "outputs": [],
   "source": [
    "# !pip install pyarrow"
   ]
  },
  {
   "cell_type": "markdown",
   "id": "886b72c8-3ed1-43b0-89d0-e7dc00cb3516",
   "metadata": {},
   "source": [
    "Now we load New York City Yellow Taxi Trip Records from January and February 2023\n",
    "'https://d37ci6vzurychx.cloudfront.net/trip-data/yellow_tripdata_2023-01.parquet'\n",
    "'https://d37ci6vzurychx.cloudfront.net/trip-data/yellow_tripdata_2023-02.parquet'"
   ]
  },
  {
   "cell_type": "code",
   "execution_count": 3,
   "id": "a31091f0-87e9-492d-8ec7-77735152f5e7",
   "metadata": {},
   "outputs": [
    {
     "data": {
      "text/html": [
       "<div>\n",
       "<style scoped>\n",
       "    .dataframe tbody tr th:only-of-type {\n",
       "        vertical-align: middle;\n",
       "    }\n",
       "\n",
       "    .dataframe tbody tr th {\n",
       "        vertical-align: top;\n",
       "    }\n",
       "\n",
       "    .dataframe thead th {\n",
       "        text-align: right;\n",
       "    }\n",
       "</style>\n",
       "<table border=\"1\" class=\"dataframe\">\n",
       "  <thead>\n",
       "    <tr style=\"text-align: right;\">\n",
       "      <th></th>\n",
       "      <th>VendorID</th>\n",
       "      <th>tpep_pickup_datetime</th>\n",
       "      <th>tpep_dropoff_datetime</th>\n",
       "      <th>passenger_count</th>\n",
       "      <th>trip_distance</th>\n",
       "      <th>RatecodeID</th>\n",
       "      <th>store_and_fwd_flag</th>\n",
       "      <th>PULocationID</th>\n",
       "      <th>DOLocationID</th>\n",
       "      <th>payment_type</th>\n",
       "      <th>fare_amount</th>\n",
       "      <th>extra</th>\n",
       "      <th>mta_tax</th>\n",
       "      <th>tip_amount</th>\n",
       "      <th>tolls_amount</th>\n",
       "      <th>improvement_surcharge</th>\n",
       "      <th>total_amount</th>\n",
       "      <th>congestion_surcharge</th>\n",
       "      <th>airport_fee</th>\n",
       "    </tr>\n",
       "  </thead>\n",
       "  <tbody>\n",
       "    <tr>\n",
       "      <th>0</th>\n",
       "      <td>2</td>\n",
       "      <td>2023-01-01 00:32:10</td>\n",
       "      <td>2023-01-01 00:40:36</td>\n",
       "      <td>1.0</td>\n",
       "      <td>0.97</td>\n",
       "      <td>1.0</td>\n",
       "      <td>N</td>\n",
       "      <td>161</td>\n",
       "      <td>141</td>\n",
       "      <td>2</td>\n",
       "      <td>9.3</td>\n",
       "      <td>1.0</td>\n",
       "      <td>0.5</td>\n",
       "      <td>0.0</td>\n",
       "      <td>0.0</td>\n",
       "      <td>1.0</td>\n",
       "      <td>14.3</td>\n",
       "      <td>2.5</td>\n",
       "      <td>0.0</td>\n",
       "    </tr>\n",
       "  </tbody>\n",
       "</table>\n",
       "</div>"
      ],
      "text/plain": [
       "   VendorID tpep_pickup_datetime tpep_dropoff_datetime  passenger_count  \\\n",
       "0         2  2023-01-01 00:32:10   2023-01-01 00:40:36              1.0   \n",
       "\n",
       "   trip_distance  RatecodeID store_and_fwd_flag  PULocationID  DOLocationID  \\\n",
       "0           0.97         1.0                  N           161           141   \n",
       "\n",
       "   payment_type  fare_amount  extra  mta_tax  tip_amount  tolls_amount  \\\n",
       "0             2          9.3    1.0      0.5         0.0           0.0   \n",
       "\n",
       "   improvement_surcharge  total_amount  congestion_surcharge  airport_fee  \n",
       "0                    1.0          14.3                   2.5          0.0  "
      ]
     },
     "execution_count": 3,
     "metadata": {},
     "output_type": "execute_result"
    }
   ],
   "source": [
    "df = pd.read_parquet('https://d37ci6vzurychx.cloudfront.net/trip-data/yellow_tripdata_2023-01.parquet')\n",
    "df_test = pd.read_parquet('https://d37ci6vzurychx.cloudfront.net/trip-data/yellow_tripdata_2023-02.parquet')\n",
    "\n",
    "df.head(1)"
   ]
  },
  {
   "cell_type": "code",
   "execution_count": 4,
   "id": "848b2591-de61-4566-bd12-53f778a93d1e",
   "metadata": {},
   "outputs": [
    {
     "data": {
      "text/plain": [
       "((3066766, 19), (2913955, 19))"
      ]
     },
     "execution_count": 4,
     "metadata": {},
     "output_type": "execute_result"
    }
   ],
   "source": [
    "df.shape, df_test.shape"
   ]
  },
  {
   "cell_type": "code",
   "execution_count": 5,
   "id": "f367a20d-8b2a-4044-936c-e2d5d6b7eb0c",
   "metadata": {},
   "outputs": [],
   "source": [
    "df['duration']= df['tpep_dropoff_datetime']- df['tpep_pickup_datetime']\n",
    "df['duration'] = df['duration'].apply(lambda td:td.total_seconds()/60)\n",
    "\n",
    "df_test['duration']= df_test['tpep_dropoff_datetime']- df_test['tpep_pickup_datetime']\n",
    "df_test['duration'] = df_test['duration'].apply(lambda td:td.total_seconds()/60)"
   ]
  },
  {
   "cell_type": "markdown",
   "id": "f8426a04-37c9-4e77-b099-3d3e0c17e451",
   "metadata": {},
   "source": [
    "----------------------------------------------------------------------------------------"
   ]
  },
  {
   "cell_type": "markdown",
   "id": "baed06c9-82d4-4acb-be7c-09cca4ab5b64",
   "metadata": {},
   "source": [
    "Q3. Next, we need to check the distribution of the duration variable. There are some outliers. Let's remove them and keep only the records where the duration was between 1 and 60 minutes (inclusive).\n",
    "\n",
    "What fraction of the records left after you dropped the outliers?"
   ]
  },
  {
   "cell_type": "code",
   "execution_count": 6,
   "id": "2b7a2af1-7976-4523-a6ed-81ecce534d1c",
   "metadata": {},
   "outputs": [],
   "source": [
    "df['duration_1to60'] = df['duration'][(df['duration']>=1) & (df['duration']<=60)]\n",
    "\n",
    "df_test['duration_1to60'] = df_test['duration'][(df_test['duration']>=1) & (df_test['duration']<=60)]"
   ]
  },
  {
   "cell_type": "code",
   "execution_count": 7,
   "id": "dddbd14b-7598-48da-8caf-8f4afaccc60d",
   "metadata": {},
   "outputs": [],
   "source": [
    "categorical = ['PULocationID','DOLocationID']\n",
    "numerical = ['trip_distance']  # im adding the numerical on my own\n",
    "target = 'duration_1to60'\n",
    "\n",
    "dv = DictVectorizer()  # for one hot encoding\n",
    "\n",
    "df[categorical] = df[categorical].astype(str)\n",
    "train_dict = df[categorical+numerical].to_dict(orient='records')\n",
    "X_train = dv.fit_transform(train_dict)\n",
    "y_train = df[target].values\n",
    "\n",
    "\n",
    "df_test[categorical] = df_test[categorical].astype(str)\n",
    "test_dict = df_test[categorical+numerical].to_dict(orient='records')\n",
    "X_test = dv.transform(test_dict) # dont do fit_transform again\n",
    "# X_test = X_test[X_train.columns]\n",
    "y_test = df_test[target].values\n"
   ]
  },
  {
   "cell_type": "markdown",
   "id": "ac0a0c26-f039-4199-a57f-738d11a0789a",
   "metadata": {},
   "source": [
    "A4. dimensionality of the X_train matrix is 519"
   ]
  },
  {
   "cell_type": "markdown",
   "id": "a3cf7243-5092-4f92-8ab6-e80de6f435eb",
   "metadata": {},
   "source": [
    "-----------------------------------------------------------------------------------------"
   ]
  },
  {
   "cell_type": "markdown",
   "id": "e93249a5-7a50-408d-94dd-745b5c14fc6b",
   "metadata": {},
   "source": [
    "Q5. Training a model\n",
    "Now let's use the feature matrix from the previous step to train a model.\n",
    "\n",
    "Train a plain linear regression model with default parameters, where duration is the response variable\n",
    "Calculate the RMSE of the model on the training data\n",
    "What's the RMSE on train?"
   ]
  },
  {
   "cell_type": "code",
   "execution_count": 8,
   "id": "e3517241-c68f-4274-abf4-64cbf45cc98b",
   "metadata": {},
   "outputs": [
    {
     "name": "stdout",
     "output_type": "stream",
     "text": [
      "57593\n",
      "0\n",
      "58004\n",
      "0\n"
     ]
    }
   ],
   "source": [
    "print(pd.isna(y_train).sum())\n",
    "\n",
    "mask = ~np.isnan(y_train)\n",
    "X_train = X_train[mask]\n",
    "y_train = y_train[mask]\n",
    "\n",
    "print(pd.isna(y_train).sum())\n",
    "\n",
    "print(pd.isna(y_test).sum())\n",
    "\n",
    "mask = ~np.isnan(y_test)\n",
    "X_test = X_test[mask]\n",
    "y_test = y_test[mask]\n",
    "\n",
    "print(pd.isna(y_test).sum())"
   ]
  },
  {
   "cell_type": "code",
   "execution_count": 9,
   "id": "efeae4bc-8f7e-4564-a4f9-64b6928ab320",
   "metadata": {},
   "outputs": [],
   "source": [
    "model_linear = LinearRegression()\n",
    "model_linear.fit(X_train, y_train)\n",
    "\n",
    "y_pred = model_linear.predict(X_test)"
   ]
  },
  {
   "cell_type": "code",
   "execution_count": 10,
   "id": "43e8c48d-22f7-49e6-a59c-5a72d05987c3",
   "metadata": {},
   "outputs": [
    {
     "name": "stderr",
     "output_type": "stream",
     "text": [
      "/tmp/ipykernel_4058/2788846470.py:1: UserWarning: \n",
      "\n",
      "`distplot` is a deprecated function and will be removed in seaborn v0.14.0.\n",
      "\n",
      "Please adapt your code to use either `displot` (a figure-level function with\n",
      "similar flexibility) or `histplot` (an axes-level function for histograms).\n",
      "\n",
      "For a guide to updating your code to use the new functions, please see\n",
      "https://gist.github.com/mwaskom/de44147ed2974457ad6372750bbe5751\n",
      "\n",
      "  sns.distplot(y_pred, label= 'pred')\n",
      "/tmp/ipykernel_4058/2788846470.py:2: UserWarning: \n",
      "\n",
      "`distplot` is a deprecated function and will be removed in seaborn v0.14.0.\n",
      "\n",
      "Please adapt your code to use either `displot` (a figure-level function with\n",
      "similar flexibility) or `histplot` (an axes-level function for histograms).\n",
      "\n",
      "For a guide to updating your code to use the new functions, please see\n",
      "https://gist.github.com/mwaskom/de44147ed2974457ad6372750bbe5751\n",
      "\n",
      "  sns.distplot(y_test, label = 'actual')\n"
     ]
    },
    {
     "data": {
      "text/plain": [
       "<matplotlib.legend.Legend at 0x70b951736190>"
      ]
     },
     "execution_count": 10,
     "metadata": {},
     "output_type": "execute_result"
    },
    {
     "data": {
      "image/png": "[encoded data removed]",
      "text/plain": [
       "<Figure size 640x480 with 1 Axes>"
      ]
     },
     "metadata": {},
     "output_type": "display_data"
    }
   ],
   "source": [
    "sns.distplot(y_pred, label= 'pred')\n",
    "sns.distplot(y_test, label = 'actual')\n",
    "plt.legend()"
   ]
  },
  {
   "cell_type": "markdown",
   "id": "39b62f90-d9d0-4639-ae05-1222fa1658bf",
   "metadata": {},
   "source": [
    "Q6. Evaluating the model\n",
    "Now let's apply this model to the validation dataset (February 2023).\n",
    "\n",
    "What's the RMSE on validation?"
   ]
  },
  {
   "cell_type": "code",
   "execution_count": 12,
   "id": "be99a3d5-d169-4ac3-9608-7b69e78ec58e",
   "metadata": {},
   "outputs": [
    {
     "name": "stdout",
     "output_type": "stream",
     "text": [
      "7.820103223885409\n"
     ]
    }
   ],
   "source": [
    "rmse = np.sqrt(mean_squared_error(y_test, y_pred))\n",
    "print(rmse)"
   ]
  },
  {
   "cell_type": "code",
   "execution_count": null,
   "id": "caeece49-513a-4db8-822e-7d3a343106c2",
   "metadata": {},
   "outputs": [],
   "source": []
  },
  {
   "cell_type": "code",
   "execution_count": null,
   "id": "c4590310-24c1-42f8-ae77-f1e791cff176",
   "metadata": {},
   "outputs": [],
   "source": []
  },
  {
   "cell_type": "code",
   "execution_count": null,
   "id": "efbd3a59-6274-43fc-8105-2d2ccfc53b56",
   "metadata": {},
   "outputs": [],
   "source": []
  },
  {
   "cell_type": "code",
   "execution_count": null,
   "id": "2a95b268-4c1d-4536-874f-e6f6eac52da3",
   "metadata": {},
   "outputs": [],
   "source": []
  },
  {
   "cell_type": "code",
   "execution_count": null,
   "id": "e23a3dd0-821e-4b79-b9de-d4ef3518d9d0",
   "metadata": {},
   "outputs": [],
   "source": []
  }
 ],
 "metadata": {
  "kernelspec": {
   "display_name": "Python 3 (ipykernel)",
   "language": "python",
   "name": "python3"
  },
  "language_info": {
   "codemirror_mode": {
    "name": "ipython",
    "version": 3
   },
   "file_extension": ".py",
   "mimetype": "text/x-python",
   "name": "python",
   "nbconvert_exporter": "python",
   "pygments_lexer": "ipython3",
   "version": "3.11.13"
  }
 },
 "nbformat": 4,
 "nbformat_minor": 5
}
